{
 "cells": [
  {
   "cell_type": "markdown",
   "id": "4e260e5d",
   "metadata": {},
   "source": [
    "Importing the libraries\n"
   ]
  },
  {
   "cell_type": "code",
   "execution_count": 3,
   "id": "e463ca0b",
   "metadata": {},
   "outputs": [],
   "source": [
    "import csv\n",
    "import pandas as pd\n",
    "import matplotlib.pyplot as plt "
   ]
  },
  {
   "cell_type": "markdown",
   "id": "066b2e92",
   "metadata": {},
   "source": [
    "Importing the file and showing the first lines"
   ]
  },
  {
   "cell_type": "code",
   "execution_count": 4,
   "id": "9275707c",
   "metadata": {
    "scrolled": true
   },
   "outputs": [
    {
     "data": {
      "text/html": [
       "<div>\n",
       "<style scoped>\n",
       "    .dataframe tbody tr th:only-of-type {\n",
       "        vertical-align: middle;\n",
       "    }\n",
       "\n",
       "    .dataframe tbody tr th {\n",
       "        vertical-align: top;\n",
       "    }\n",
       "\n",
       "    .dataframe thead th {\n",
       "        text-align: right;\n",
       "    }\n",
       "</style>\n",
       "<table border=\"1\" class=\"dataframe\">\n",
       "  <thead>\n",
       "    <tr style=\"text-align: right;\">\n",
       "      <th></th>\n",
       "      <th>Seconds</th>\n",
       "      <th>Minutes</th>\n",
       "      <th>TMP.Values.AC_A</th>\n",
       "      <th>TMP.Values.AC_B</th>\n",
       "      <th>TMP.Values.COIL_A</th>\n",
       "      <th>TMP.Values.COIL_B</th>\n",
       "      <th>DER.Requested_Power.A</th>\n",
       "      <th>DER.Requested_Power.B</th>\n",
       "    </tr>\n",
       "  </thead>\n",
       "  <tbody>\n",
       "    <tr>\n",
       "      <th>0</th>\n",
       "      <td>0.000</td>\n",
       "      <td>0.000000</td>\n",
       "      <td>-1.000000</td>\n",
       "      <td>-1.0</td>\n",
       "      <td>-1.000000</td>\n",
       "      <td>-1.000000</td>\n",
       "      <td>-1</td>\n",
       "      <td>-1</td>\n",
       "    </tr>\n",
       "    <tr>\n",
       "      <th>1</th>\n",
       "      <td>0.000</td>\n",
       "      <td>0.000000</td>\n",
       "      <td>29.486412</td>\n",
       "      <td>-10.0</td>\n",
       "      <td>29.486412</td>\n",
       "      <td>28.906469</td>\n",
       "      <td>1250</td>\n",
       "      <td>0</td>\n",
       "    </tr>\n",
       "    <tr>\n",
       "      <th>2</th>\n",
       "      <td>0.005</td>\n",
       "      <td>0.000083</td>\n",
       "      <td>29.486412</td>\n",
       "      <td>-10.0</td>\n",
       "      <td>29.486412</td>\n",
       "      <td>28.906469</td>\n",
       "      <td>1250</td>\n",
       "      <td>0</td>\n",
       "    </tr>\n",
       "    <tr>\n",
       "      <th>3</th>\n",
       "      <td>0.010</td>\n",
       "      <td>0.000167</td>\n",
       "      <td>29.486412</td>\n",
       "      <td>-10.0</td>\n",
       "      <td>29.486412</td>\n",
       "      <td>28.906469</td>\n",
       "      <td>1250</td>\n",
       "      <td>0</td>\n",
       "    </tr>\n",
       "    <tr>\n",
       "      <th>4</th>\n",
       "      <td>0.015</td>\n",
       "      <td>0.000250</td>\n",
       "      <td>29.486412</td>\n",
       "      <td>-10.0</td>\n",
       "      <td>29.486412</td>\n",
       "      <td>28.906469</td>\n",
       "      <td>1250</td>\n",
       "      <td>0</td>\n",
       "    </tr>\n",
       "  </tbody>\n",
       "</table>\n",
       "</div>"
      ],
      "text/plain": [
       "   Seconds   Minutes  TMP.Values.AC_A  TMP.Values.AC_B  TMP.Values.COIL_A  \\\n",
       "0    0.000  0.000000        -1.000000             -1.0          -1.000000   \n",
       "1    0.000  0.000000        29.486412            -10.0          29.486412   \n",
       "2    0.005  0.000083        29.486412            -10.0          29.486412   \n",
       "3    0.010  0.000167        29.486412            -10.0          29.486412   \n",
       "4    0.015  0.000250        29.486412            -10.0          29.486412   \n",
       "\n",
       "   TMP.Values.COIL_B  DER.Requested_Power.A  DER.Requested_Power.B  \n",
       "0          -1.000000                     -1                     -1  \n",
       "1          28.906469                   1250                      0  \n",
       "2          28.906469                   1250                      0  \n",
       "3          28.906469                   1250                      0  \n",
       "4          28.906469                   1250                      0  "
      ]
     },
     "execution_count": 4,
     "metadata": {},
     "output_type": "execute_result"
    }
   ],
   "source": [
    "file = 'C:/Users/ANDRAE15/Desktop/Dry_pan Projetc/2 Experiment/run29_th.csv'\n",
    "\n",
    "run_th = pd.read_csv(file)\n",
    "run_th.head(5)\n"
   ]
  },
  {
   "cell_type": "markdown",
   "id": "8bfe7b0e",
   "metadata": {},
   "source": [
    "Importing the power measured (Power_rms)"
   ]
  },
  {
   "cell_type": "code",
   "execution_count": 5,
   "id": "c4e41bfd",
   "metadata": {},
   "outputs": [
    {
     "name": "stdout",
     "output_type": "stream",
     "text": [
      "854\n",
      "1257.9410833278353\n",
      "8.540000000000001\n"
     ]
    },
    {
     "data": {
      "image/png": "[encoded data removed]",
      "text/plain": [
       "<Figure size 432x288 with 1 Axes>"
      ]
     },
     "metadata": {
      "needs_background": "light"
     },
     "output_type": "display_data"
    },
    {
     "data": {
      "text/html": [
       "<div>\n",
       "<style scoped>\n",
       "    .dataframe tbody tr th:only-of-type {\n",
       "        vertical-align: middle;\n",
       "    }\n",
       "\n",
       "    .dataframe tbody tr th {\n",
       "        vertical-align: top;\n",
       "    }\n",
       "\n",
       "    .dataframe thead th {\n",
       "        text-align: right;\n",
       "    }\n",
       "</style>\n",
       "<table border=\"1\" class=\"dataframe\">\n",
       "  <thead>\n",
       "    <tr style=\"text-align: right;\">\n",
       "      <th></th>\n",
       "      <th>Seconds</th>\n",
       "      <th>Power</th>\n",
       "    </tr>\n",
       "  </thead>\n",
       "  <tbody>\n",
       "    <tr>\n",
       "      <th>15341</th>\n",
       "      <td>1534.1</td>\n",
       "      <td>0</td>\n",
       "    </tr>\n",
       "    <tr>\n",
       "      <th>15342</th>\n",
       "      <td>1534.2</td>\n",
       "      <td>0</td>\n",
       "    </tr>\n",
       "    <tr>\n",
       "      <th>15343</th>\n",
       "      <td>1534.3</td>\n",
       "      <td>0</td>\n",
       "    </tr>\n",
       "    <tr>\n",
       "      <th>15344</th>\n",
       "      <td>1534.4</td>\n",
       "      <td>0</td>\n",
       "    </tr>\n",
       "    <tr>\n",
       "      <th>15345</th>\n",
       "      <td>1534.5</td>\n",
       "      <td>0</td>\n",
       "    </tr>\n",
       "  </tbody>\n",
       "</table>\n",
       "</div>"
      ],
      "text/plain": [
       "      Seconds Power\n",
       "15341  1534.1     0\n",
       "15342  1534.2     0\n",
       "15343  1534.3     0\n",
       "15344  1534.4     0\n",
       "15345  1534.5     0"
      ]
     },
     "execution_count": 5,
     "metadata": {},
     "output_type": "execute_result"
    }
   ],
   "source": [
    "file = 'C:/Users/ANDRAE15/Desktop/Dry_pan Projetc/2 Experiment/run29_hw.csv'\n",
    "\n",
    "run_hw = pd.read_csv(file)\n",
    "run_hw.head()\n",
    "\n",
    "HwData = pd.DataFrame(columns = ['Seconds', 'Power'])\n",
    "moment =0\n",
    "\n",
    "for istart in run_hw.index:\n",
    "    if run_hw['Power_Rms.A'][istart] > 0:\n",
    "       break\n",
    "print(istart)    \n",
    "#creating an empty dataframe\n",
    "\n",
    "sum_power = 0\n",
    "count_power = 0\n",
    "\n",
    "\n",
    "for i in range(istart, len(run_hw.index), 10):\n",
    "    #Dataframe recives the iteration values\n",
    "    DataIteration = pd.DataFrame({'Seconds': moment,'Power': run_hw['Power_Rms.A'][i]}, index=[i])\n",
    "    #The iteration is added to the Actual dataframe\n",
    "    HwData = pd.concat([HwData, DataIteration])\n",
    "    moment = moment + 0.01*10\n",
    "    if run_hw['Power_Rms.A'][i] > 0:\n",
    "        sum_power = sum_power + run_hw['Power_Rms.A'][i]\n",
    "        count_power = count_power + 1\n",
    "    \n",
    "mean_Power = sum_power/count_power\n",
    "\n",
    "print(mean_Power)\n",
    "    \n",
    "HwData.to_csv(\"C:/Users/ANDRAE15/Desktop/Dry_pan Projetc/2 Experiment/Data/Run29PowerEstimated.csv\", index=False)    \n",
    "    \n",
    "HwData.reset_index(inplace=True, drop=True)\n",
    "\n",
    "time = istart*0.01\n",
    "print(time)\n",
    "\n",
    "plt.plot(HwData['Seconds'], HwData['Power'])\n",
    "plt.xlabel('Time (s)')\n",
    "plt.ylabel('Power (W)')\n",
    "plt.savefig('C:/Users/ANDRAE15/Desktop/Dry_pan Projetc/2 Experiment/Data/run29Power.jpeg', format='jpeg', dpi=300)\n",
    "plt.show()\n",
    "\n",
    "HwData.tail()\n",
    "\n",
    "#run_hw['Seconds'][istart]\n"
   ]
  },
  {
   "cell_type": "markdown",
   "id": "1f15d50b",
   "metadata": {},
   "source": [
    "Identifying the moment where the pan started to be heated and creating a new Dataframe from this moment\n"
   ]
  },
  {
   "cell_type": "code",
   "execution_count": 6,
   "id": "8b9edd3f",
   "metadata": {},
   "outputs": [
    {
     "data": {
      "text/html": [
       "<div>\n",
       "<style scoped>\n",
       "    .dataframe tbody tr th:only-of-type {\n",
       "        vertical-align: middle;\n",
       "    }\n",
       "\n",
       "    .dataframe tbody tr th {\n",
       "        vertical-align: top;\n",
       "    }\n",
       "\n",
       "    .dataframe thead th {\n",
       "        text-align: right;\n",
       "    }\n",
       "</style>\n",
       "<table border=\"1\" class=\"dataframe\">\n",
       "  <thead>\n",
       "    <tr style=\"text-align: right;\">\n",
       "      <th></th>\n",
       "      <th>Seconds</th>\n",
       "      <th>Coil Temp</th>\n",
       "      <th>Gap Temp</th>\n",
       "      <th>Requested Power</th>\n",
       "    </tr>\n",
       "  </thead>\n",
       "  <tbody>\n",
       "    <tr>\n",
       "      <th>30799</th>\n",
       "      <td>1539.95</td>\n",
       "      <td>260.723785</td>\n",
       "      <td>260.452637</td>\n",
       "      <td>0</td>\n",
       "    </tr>\n",
       "    <tr>\n",
       "      <th>30800</th>\n",
       "      <td>1540.0</td>\n",
       "      <td>260.723785</td>\n",
       "      <td>260.452637</td>\n",
       "      <td>0</td>\n",
       "    </tr>\n",
       "    <tr>\n",
       "      <th>30801</th>\n",
       "      <td>1540.05</td>\n",
       "      <td>260.723785</td>\n",
       "      <td>260.452637</td>\n",
       "      <td>0</td>\n",
       "    </tr>\n",
       "    <tr>\n",
       "      <th>30802</th>\n",
       "      <td>1540.1</td>\n",
       "      <td>260.723785</td>\n",
       "      <td>260.452637</td>\n",
       "      <td>0</td>\n",
       "    </tr>\n",
       "    <tr>\n",
       "      <th>30803</th>\n",
       "      <td>1540.15</td>\n",
       "      <td>260.723785</td>\n",
       "      <td>260.452637</td>\n",
       "      <td>0</td>\n",
       "    </tr>\n",
       "  </tbody>\n",
       "</table>\n",
       "</div>"
      ],
      "text/plain": [
       "       Seconds   Coil Temp    Gap Temp Requested Power\n",
       "30799  1539.95  260.723785  260.452637               0\n",
       "30800   1540.0  260.723785  260.452637               0\n",
       "30801  1540.05  260.723785  260.452637               0\n",
       "30802   1540.1  260.723785  260.452637               0\n",
       "30803  1540.15  260.723785  260.452637               0"
      ]
     },
     "execution_count": 6,
     "metadata": {},
     "output_type": "execute_result"
    }
   ],
   "source": [
    "\n",
    "#creating an empty dataframe\n",
    "ThermalData = pd.DataFrame(columns = ['Seconds', 'Coil Temp', 'Gap Temp', 'Requested Power'])\n",
    "moment =0\n",
    "ThermalData.head()\n",
    "\n",
    "istart_ther = istart*2+1\n",
    "\n",
    "for i in range(istart_ther, len(run_th.index), 10):\n",
    "    #Dataframe recives the iteration values\n",
    "    DataIteration = pd.DataFrame({'Seconds': moment,'Coil Temp': run_th['TMP.Values.AC_A'][i], 'Gap Temp': run_th['TMP.Values.COIL_A'][i], 'Requested Power': run_th['DER.Requested_Power.A'][i]}, index=[i])\n",
    "    #The iteration is added to the Actual dataframe\n",
    "    ThermalData = pd.concat([ThermalData, DataIteration])\n",
    "    moment = moment + 0.005*10\n",
    "    \n",
    "\n",
    "ThermalData.reset_index(inplace=True, drop=True)\n",
    "ThermalData.tail()\n",
    "\n",
    "#run_th['Seconds'][istart_ther]\n"
   ]
  },
  {
   "cell_type": "markdown",
   "id": "20e9f834",
   "metadata": {},
   "source": [
    "Importing the file with the thermocouples measurements"
   ]
  },
  {
   "cell_type": "code",
   "execution_count": 7,
   "id": "647ae83a",
   "metadata": {},
   "outputs": [
    {
     "data": {
      "text/html": [
       "<div>\n",
       "<style scoped>\n",
       "    .dataframe tbody tr th:only-of-type {\n",
       "        vertical-align: middle;\n",
       "    }\n",
       "\n",
       "    .dataframe tbody tr th {\n",
       "        vertical-align: top;\n",
       "    }\n",
       "\n",
       "    .dataframe thead th {\n",
       "        text-align: right;\n",
       "    }\n",
       "</style>\n",
       "<table border=\"1\" class=\"dataframe\">\n",
       "  <thead>\n",
       "    <tr style=\"text-align: right;\">\n",
       "      <th></th>\n",
       "      <th>Ch</th>\n",
       "      <th>CH001</th>\n",
       "      <th>CH002</th>\n",
       "      <th>CH003</th>\n",
       "      <th>CH004</th>\n",
       "      <th>CH005</th>\n",
       "      <th>CH006</th>\n",
       "    </tr>\n",
       "  </thead>\n",
       "  <tbody>\n",
       "    <tr>\n",
       "      <th>0</th>\n",
       "      <td>2022/09/15 15:19:34_000</td>\n",
       "      <td>26.3</td>\n",
       "      <td>26.0</td>\n",
       "      <td>26.2</td>\n",
       "      <td>25.8</td>\n",
       "      <td>-99999</td>\n",
       "      <td>25.9</td>\n",
       "    </tr>\n",
       "    <tr>\n",
       "      <th>1</th>\n",
       "      <td>2022/09/15 15:19:36_000</td>\n",
       "      <td>26.3</td>\n",
       "      <td>26.0</td>\n",
       "      <td>26.2</td>\n",
       "      <td>25.8</td>\n",
       "      <td>-99999</td>\n",
       "      <td>25.9</td>\n",
       "    </tr>\n",
       "    <tr>\n",
       "      <th>2</th>\n",
       "      <td>2022/09/15 15:19:38_000</td>\n",
       "      <td>26.3</td>\n",
       "      <td>26.0</td>\n",
       "      <td>26.2</td>\n",
       "      <td>25.8</td>\n",
       "      <td>-99999</td>\n",
       "      <td>25.9</td>\n",
       "    </tr>\n",
       "    <tr>\n",
       "      <th>3</th>\n",
       "      <td>2022/09/15 15:19:40_000</td>\n",
       "      <td>26.3</td>\n",
       "      <td>26.0</td>\n",
       "      <td>26.2</td>\n",
       "      <td>25.8</td>\n",
       "      <td>-99999</td>\n",
       "      <td>25.9</td>\n",
       "    </tr>\n",
       "    <tr>\n",
       "      <th>4</th>\n",
       "      <td>2022/09/15 15:19:42_000</td>\n",
       "      <td>28.2</td>\n",
       "      <td>29.7</td>\n",
       "      <td>29.6</td>\n",
       "      <td>30.2</td>\n",
       "      <td>-99999</td>\n",
       "      <td>26.4</td>\n",
       "    </tr>\n",
       "  </tbody>\n",
       "</table>\n",
       "</div>"
      ],
      "text/plain": [
       "                        Ch  CH001  CH002  CH003  CH004  CH005  CH006\n",
       "0  2022/09/15 15:19:34_000   26.3   26.0   26.2   25.8 -99999   25.9\n",
       "1  2022/09/15 15:19:36_000   26.3   26.0   26.2   25.8 -99999   25.9\n",
       "2  2022/09/15 15:19:38_000   26.3   26.0   26.2   25.8 -99999   25.9\n",
       "3  2022/09/15 15:19:40_000   26.3   26.0   26.2   25.8 -99999   25.9\n",
       "4  2022/09/15 15:19:42_000   28.2   29.7   29.6   30.2 -99999   26.4"
      ]
     },
     "execution_count": 7,
     "metadata": {},
     "output_type": "execute_result"
    }
   ],
   "source": [
    "fileMeasurement = 'C:/Users/ANDRAE15/Desktop/Dry_pan Projetc/2 Experiment/Run29_Thermocouples.xlsx'\n",
    "\n",
    "\n",
    "Measu = pd.read_excel(fileMeasurement, header=0) #load the file starting with the row where he have the measurements\n",
    "\n",
    "#Measu =Measu.drop([0]) #drop the first row which is empty\n",
    "\n",
    "Measu.head()"
   ]
  },
  {
   "cell_type": "markdown",
   "id": "93300266",
   "metadata": {},
   "source": [
    "Find the moment where the pan starts to heat"
   ]
  },
  {
   "cell_type": "code",
   "execution_count": 8,
   "id": "830d6765",
   "metadata": {},
   "outputs": [
    {
     "name": "stdout",
     "output_type": "stream",
     "text": [
      "4\n"
     ]
    }
   ],
   "source": [
    "Time = 0;\n",
    "for i in range(0, len(Measu)):\n",
    "    if Time > run_th['Seconds'][istart_ther]:\n",
    "        startHeating = i-1\n",
    "        break\n",
    "    Time = Time + 2\n",
    "\n",
    "\n",
    "   \n",
    "    \n",
    "    \n",
    "print(startHeating)\n"
   ]
  },
  {
   "cell_type": "markdown",
   "id": "4599082c",
   "metadata": {},
   "source": [
    "Creating a Dataframe with a medium of the thermocouples starting from the point where the par starts to Heat"
   ]
  },
  {
   "cell_type": "code",
   "execution_count": 9,
   "id": "b89df105",
   "metadata": {},
   "outputs": [
    {
     "data": {
      "text/html": [
       "<div>\n",
       "<style scoped>\n",
       "    .dataframe tbody tr th:only-of-type {\n",
       "        vertical-align: middle;\n",
       "    }\n",
       "\n",
       "    .dataframe tbody tr th {\n",
       "        vertical-align: top;\n",
       "    }\n",
       "\n",
       "    .dataframe thead th {\n",
       "        text-align: right;\n",
       "    }\n",
       "</style>\n",
       "<table border=\"1\" class=\"dataframe\">\n",
       "  <thead>\n",
       "    <tr style=\"text-align: right;\">\n",
       "      <th></th>\n",
       "      <th>Seconds</th>\n",
       "      <th>Temp</th>\n",
       "    </tr>\n",
       "  </thead>\n",
       "  <tbody>\n",
       "    <tr>\n",
       "      <th>763</th>\n",
       "      <td>1526</td>\n",
       "      <td>336.58</td>\n",
       "    </tr>\n",
       "    <tr>\n",
       "      <th>764</th>\n",
       "      <td>1528</td>\n",
       "      <td>334.54</td>\n",
       "    </tr>\n",
       "    <tr>\n",
       "      <th>765</th>\n",
       "      <td>1530</td>\n",
       "      <td>332.3</td>\n",
       "    </tr>\n",
       "    <tr>\n",
       "      <th>766</th>\n",
       "      <td>1532</td>\n",
       "      <td>330.5</td>\n",
       "    </tr>\n",
       "    <tr>\n",
       "      <th>767</th>\n",
       "      <td>1534</td>\n",
       "      <td>327.9</td>\n",
       "    </tr>\n",
       "  </tbody>\n",
       "</table>\n",
       "</div>"
      ],
      "text/plain": [
       "    Seconds    Temp\n",
       "763    1526  336.58\n",
       "764    1528  334.54\n",
       "765    1530   332.3\n",
       "766    1532   330.5\n",
       "767    1534   327.9"
      ]
     },
     "execution_count": 9,
     "metadata": {},
     "output_type": "execute_result"
    }
   ],
   "source": [
    "Mean_Thermocouple = pd.DataFrame(columns = ['Seconds', 'Temp'])\n",
    "\n",
    "moment = 0\n",
    "j = 0\n",
    "\n",
    "for i in range(startHeating, len(Measu)):\n",
    "    #Getting the temperature of each termocouple\n",
    "    cont = 0\n",
    "    tcl_sum = 0\n",
    "    tc1 = Measu['CH001'][i]\n",
    "    tc2 = Measu['CH002'][i]\n",
    "    tc3 = Measu['CH003'][i]\n",
    "    tc4 = Measu['CH004'][i]\n",
    "    tc5 = Measu['CH006'][i]\n",
    "    \n",
    "    if tc1 > 0:\n",
    "        cont = cont + 1\n",
    "        tcl_sum = tcl_sum + tc1\n",
    "        \n",
    "    if tc2 > 0:\n",
    "        cont = cont + 1\n",
    "        tcl_sum = tcl_sum + tc2\n",
    "        \n",
    "    if tc3 > 0:\n",
    "        cont = cont + 1\n",
    "        tcl_sum = tcl_sum + tc3\n",
    "        \n",
    "    if tc4 > 0:\n",
    "        cont = cont + 1\n",
    "        tcl_sum = tcl_sum + tc4\n",
    "        \n",
    "    if tc5 > 0:\n",
    "        cont = cont + 1\n",
    "        tcl_sum = tcl_sum + tc5\n",
    "        \n",
    "    if cont != 0:    \n",
    "        mean_tcl = tcl_sum/cont\n",
    "    \n",
    "    DataIteration = pd.DataFrame({'Seconds': moment,'Temp': mean_tcl}, index=[j])\n",
    "    Mean_Thermocouple = pd.concat([Mean_Thermocouple, DataIteration])\n",
    "    if i != (len(Measu)-1): #This if is to guarantee do not get a counter higher than the dataframe lenght\n",
    "        moment = 2 + moment #Calculates the moment in seconds of the next iteration. \n",
    "        j = j +1\n",
    "    \n",
    "Mean_Thermocouple.tail()\n",
    "\n"
   ]
  },
  {
   "cell_type": "markdown",
   "id": "7a3bf2be",
   "metadata": {},
   "source": [
    "Creating a graphic with the Coil NTC Temperature, Gap NTC Temperature and the Mesuarement temperature"
   ]
  },
  {
   "cell_type": "code",
   "execution_count": 10,
   "id": "8eedda6b",
   "metadata": {},
   "outputs": [
    {
     "data": {
      "image/png": "[encoded data removed]",
      "text/plain": [
       "<Figure size 432x288 with 1 Axes>"
      ]
     },
     "metadata": {
      "needs_background": "light"
     },
     "output_type": "display_data"
    }
   ],
   "source": [
    "plt.plot(ThermalData['Seconds'], ThermalData['Coil Temp'], label=\"Coil Temp\")\n",
    "plt.xlabel('Time (s)')\n",
    "plt.ylabel('Temperature (° C)')\n",
    "plt.plot(ThermalData['Seconds'], ThermalData['Gap Temp'], color='red', label=\"Gap Temp\")\n",
    "plt.plot(Mean_Thermocouple['Seconds'], Mean_Thermocouple['Temp'], color='green', label= \"Measurement\")\n",
    "plt.legend(loc=\"upper left\")\n",
    "\n",
    "plt.savefig('C:/Users/ANDRAE15/Desktop/Dry_pan Projetc/2 Experiment/Data/run29.jpeg', format='jpeg', dpi=300)\n",
    "plt.show()\n",
    "\n"
   ]
  },
  {
   "cell_type": "markdown",
   "id": "7061f7c2",
   "metadata": {},
   "source": [
    "Create the csv for all the simulation, for testing a maplesim model"
   ]
  },
  {
   "cell_type": "code",
   "execution_count": 11,
   "id": "e52d5f1c",
   "metadata": {},
   "outputs": [],
   "source": [
    "Mean_Thermocouple.to_csv(\"C:/Users/ANDRAE15/Desktop/Dry_pan Projetc/2 Experiment/Data/Measure29.csv\", index=False)\n",
    "\n",
    "CoilNTCAll = pd.DataFrame(columns = ['Seconds', 'Temp'])\n",
    "GapNTCAll = pd.DataFrame(columns = ['Seconds', 'Temp'])\n",
    "PowerAll = pd.DataFrame(columns = ['Seconds', 'Power'])\n",
    "\n",
    "for i in range(0, len(ThermalData)):\n",
    "        IterationCoil = pd.DataFrame({'Seconds': ThermalData['Seconds'][i],'Temp': ThermalData['Coil Temp'][i]}, index=[i])\n",
    "        IterationGap = pd.DataFrame({'Seconds': ThermalData['Seconds'][i],'Temp': ThermalData['Gap Temp'][i]}, index=[i])\n",
    "        IterationPower = pd.DataFrame({'Seconds': ThermalData['Seconds'][i],'Power': ThermalData['Requested Power'][i]}, index=[i])\n",
    "        CoilNTCAll = pd.concat([CoilNTCAll, IterationCoil])\n",
    "        GapNTCAll = pd.concat([GapNTCAll, IterationGap])\n",
    "        PowerAll = pd.concat([PowerAll, IterationPower])\n",
    "        \n",
    "GapNTCAll.to_csv(\"C:/Users/ANDRAE15/Desktop/Dry_pan Projetc/2 Experiment/Data/run29Gap.csv\", index=False)\n",
    "CoilNTCAll.to_csv(\"C:/Users/ANDRAE15/Desktop/Dry_pan Projetc/2 Experiment/Data/run29Coil.csv\", index=False)\n",
    "PowerAll.to_csv(\"C:/Users/ANDRAE15/Desktop/Dry_pan Projetc/2 Experiment/Data/run29PowerRequired.csv\", index=False)"
   ]
  },
  {
   "cell_type": "code",
   "execution_count": null,
   "id": "8755f8e9",
   "metadata": {},
   "outputs": [],
   "source": []
  }
 ],
 "metadata": {
  "kernelspec": {
   "display_name": "Python 3 (ipykernel)",
   "language": "python",
   "name": "python3"
  },
  "language_info": {
   "codemirror_mode": {
    "name": "ipython",
    "version": 3
   },
   "file_extension": ".py",
   "mimetype": "text/x-python",
   "name": "python",
   "nbconvert_exporter": "python",
   "pygments_lexer": "ipython3",
   "version": "3.9.12"
  }
 },
 "nbformat": 4,
 "nbformat_minor": 5
}
